{
 "cells": [
  {
   "cell_type": "code",
   "id": "initial_id",
   "metadata": {
    "collapsed": true,
    "ExecuteTime": {
     "end_time": "2024-06-12T13:49:31.257815Z",
     "start_time": "2024-06-12T13:49:31.011104Z"
    }
   },
   "source": [
    "import sympy as sp\n",
    "import numpy as np"
   ],
   "outputs": [],
   "execution_count": 4
  },
  {
   "metadata": {
    "ExecuteTime": {
     "end_time": "2024-06-12T13:49:31.607175Z",
     "start_time": "2024-06-12T13:49:31.598539Z"
    }
   },
   "cell_type": "code",
   "source": [
    "lattice_constant = np.sqrt(3)\n",
    "\n",
    "all_K_points = 4 * np.pi / (3 * lattice_constant) * np.array([\n",
    "    (np.sin(i * np.pi / 6), np.cos(i * np.pi / 6)) for i in [1, 3, 5, 7, 9, 11]]\n",
    ")\n",
    "\n",
    "Gamma = np.array([0, 0])\n",
    "M = np.pi / lattice_constant * np.array([1, 1 / np.sqrt(3)])\n",
    "K = 4 * np.pi / (3 * lattice_constant) * np.array([1, 0])"
   ],
   "id": "2e58e864df73b25",
   "outputs": [],
   "execution_count": 5
  },
  {
   "metadata": {
    "ExecuteTime": {
     "end_time": "2024-06-12T13:53:08.166633Z",
     "start_time": "2024-06-12T13:53:08.153604Z"
    }
   },
   "cell_type": "code",
   "source": [
    "t_gr, t_x, V, a, k_x, k_y = sp.symbols('t_gr t_x V a k_x k_y')\n",
    "\n",
    "f_x = -2 * t_x * (sp.cos(a * k_x) + 2 * sp.cos(0.5 * a * k_x) * sp.cos(0.5 * sp.sqrt(3) * k_y))\n",
    "f_gr = -t_gr * (sp.exp(1j * k_y / sp.sqrt(3)) + 2 * sp.exp(0.5j * k_y / sp.sqrt(3)) * sp.cos(0.5 * a * k_x))"
   ],
   "id": "f9dda2ff99fda323",
   "outputs": [],
   "execution_count": 12
  },
  {
   "metadata": {
    "ExecuteTime": {
     "end_time": "2024-06-12T13:54:23.305752Z",
     "start_time": "2024-06-12T13:54:23.276022Z"
    }
   },
   "cell_type": "code",
   "source": [
    "k_point = M\n",
    "\n",
    "print(f_x.subs({k_x: k_point[0], k_y: k_point[1], a: np.sqrt(3)}))\n",
    "print(f_gr.subs({k_x: k_point[0], k_y: k_point[1], a: np.sqrt(3)}))"
   ],
   "id": "ba071a99d6a68cdf",
   "outputs": [
    {
     "name": "stdout",
     "output_type": "stream",
     "text": [
      "-2*t_x*(-1.0 + 1.22464679914735e-16*cos(0.523598775598299*sqrt(3)))\n",
      "-t_gr*(1.22464679914735e-16*exp(0.174532925199433*sqrt(3)*I) + exp(0.349065850398866*sqrt(3)*I))\n"
     ]
    }
   ],
   "execution_count": 16
  },
  {
   "metadata": {},
   "cell_type": "code",
   "outputs": [],
   "execution_count": null,
   "source": "",
   "id": "ac3beb3a385f0425"
  }
 ],
 "metadata": {
  "kernelspec": {
   "display_name": "Python 3",
   "language": "python",
   "name": "python3"
  },
  "language_info": {
   "codemirror_mode": {
    "name": "ipython",
    "version": 2
   },
   "file_extension": ".py",
   "mimetype": "text/x-python",
   "name": "python",
   "nbconvert_exporter": "python",
   "pygments_lexer": "ipython2",
   "version": "2.7.6"
  }
 },
 "nbformat": 4,
 "nbformat_minor": 5
}
