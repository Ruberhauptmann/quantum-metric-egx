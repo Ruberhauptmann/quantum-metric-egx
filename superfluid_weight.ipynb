{
 "cells": [
  {
   "cell_type": "code",
   "id": "initial_id",
   "metadata": {
    "collapsed": true,
    "ExecuteTime": {
     "end_time": "2024-06-18T11:52:07.089218Z",
     "start_time": "2024-06-18T11:52:06.480513Z"
    }
   },
   "source": [
    "import numpy as np\n",
    "from quant_met import hamiltonians"
   ],
   "outputs": [],
   "execution_count": 3
  },
  {
   "metadata": {
    "jupyter": {
     "is_executing": true
    }
   },
   "cell_type": "code",
   "source": [
    "lattice_constant = np.sqrt(3)\n",
    "egx_h = hamiltonians.EGXHamiltonian(t_gr=1, t_x=0.01, V=1, a=lattice_constant, mu=0, U_x=1, U_gr=1)\n",
    "\n",
    "k_points = np.array([[0, 0], [0.1, 0.1]])\n",
    "\n",
    "energies, bloch = egx_h.generate_bloch(k_points)\n",
    "\n",
    "#print(energies, bloch)\n",
    "print(hamiltonians.calculate_current_op(energies, bloch, 0))"
   ],
   "id": "3822d4ae35cd62c5",
   "outputs": [],
   "execution_count": null
  },
  {
   "metadata": {},
   "cell_type": "code",
   "outputs": [],
   "execution_count": null,
   "source": "",
   "id": "25564d1ff4b7e959"
  }
 ],
 "metadata": {
  "kernelspec": {
   "display_name": "Python 3",
   "language": "python",
   "name": "python3"
  },
  "language_info": {
   "codemirror_mode": {
    "name": "ipython",
    "version": 2
   },
   "file_extension": ".py",
   "mimetype": "text/x-python",
   "name": "python",
   "nbconvert_exporter": "python",
   "pygments_lexer": "ipython2",
   "version": "2.7.6"
  }
 },
 "nbformat": 4,
 "nbformat_minor": 5
}
