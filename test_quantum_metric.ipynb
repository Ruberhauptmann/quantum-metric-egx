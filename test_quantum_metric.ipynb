{
 "cells": [
  {
   "cell_type": "code",
   "id": "initial_id",
   "metadata": {
    "collapsed": true,
    "ExecuteTime": {
     "end_time": "2024-07-02T14:01:48.777212Z",
     "start_time": "2024-07-02T14:01:48.398787Z"
    }
   },
   "source": [
    "import numpy as np\n",
    "from quant_met import utils, plotting, hamiltonians"
   ],
   "outputs": [],
   "execution_count": 1
  },
  {
   "metadata": {
    "ExecuteTime": {
     "end_time": "2024-07-02T14:01:49.131024Z",
     "start_time": "2024-07-02T14:01:49.121233Z"
    }
   },
   "cell_type": "code",
   "source": [
    "lattice_constant = np.sqrt(3)\n",
    "\n",
    "all_K_points = 4 * np.pi / (3 * lattice_constant) * np.array([\n",
    "    (np.sin(i * np.pi / 6), np.cos(i * np.pi / 6)) for i in [1, 3, 5, 7, 9, 11]]\n",
    ")\n",
    "\n",
    "BZ_grid = utils.generate_uniform_grid(10, 10, all_K_points[1], all_K_points[5], origin=np.array([0, 0]))\n",
    "\n",
    "Gamma = np.array([0, 0])\n",
    "M = np.pi / lattice_constant * np.array([1, 1 / np.sqrt(3)])\n",
    "K = 4 * np.pi / (3 * lattice_constant) * np.array([1, 0])\n",
    "\n",
    "points = [(M, 'M'), (Gamma, r'\\Gamma'), (all_K_points[1], 'K')]\n",
    "\n",
    "band_path, band_path_plot, ticks, labels = plotting.generate_bz_path(points, number_of_points=1000)"
   ],
   "id": "9c8de551e3a12021",
   "outputs": [],
   "execution_count": 2
  },
  {
   "metadata": {
    "ExecuteTime": {
     "end_time": "2024-07-02T14:01:49.418148Z",
     "start_time": "2024-07-02T14:01:49.392317Z"
    }
   },
   "cell_type": "code",
   "source": [
    "egx_h = hamiltonians.EGXHamiltonian(t_gr=1, t_x=0.01, a=lattice_constant, V=1, mu=0, U_gr=0, U_x=0, delta=np.array([1, 1, 1]))\n",
    "\n",
    "print(hamiltonians.calculate_quantum_metric(egx_h, BZ_grid, band=1))"
   ],
   "id": "93ce319cf24f6287",
   "outputs": [
    {
     "name": "stdout",
     "output_type": "stream",
     "text": [
      "[[0.39618152 0.07834753]\n",
      " [0.07834753 0.48657185]]\n"
     ]
    }
   ],
   "execution_count": 3
  },
  {
   "metadata": {},
   "cell_type": "code",
   "outputs": [],
   "execution_count": null,
   "source": "",
   "id": "87ad6b292068eb62"
  }
 ],
 "metadata": {
  "kernelspec": {
   "display_name": "Python 3",
   "language": "python",
   "name": "python3"
  },
  "language_info": {
   "codemirror_mode": {
    "name": "ipython",
    "version": 2
   },
   "file_extension": ".py",
   "mimetype": "text/x-python",
   "name": "python",
   "nbconvert_exporter": "python",
   "pygments_lexer": "ipython2",
   "version": "2.7.6"
  }
 },
 "nbformat": 4,
 "nbformat_minor": 5
}
